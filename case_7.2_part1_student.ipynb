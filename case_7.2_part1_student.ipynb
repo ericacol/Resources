{
 "cells": [
  {
   "cell_type": "markdown",
   "metadata": {
    "colab_type": "text",
    "id": "8XB8xTtnlvLx"
   },
   "source": [
    "# Do there exist significant differences between the balances of my various customers' cohorts?"
   ]
  },
  {
   "cell_type": "markdown",
   "metadata": {},
   "source": [
    "## Introduction\n",
    "\n",
    "**Business Context.** You are leading a business analytics unit in a bank and have been asked to support the marketing unit to conduct a customer segmentation analysis. You are provided with a dataset comprising a sample of customers, their bank account balances, and some demographic information about them. Different populations across the country have different income levels and may have different spending profiles. Your marketing team wants to know if there are significant differences in the bank balances of different subsegments of your customer base, so that they can design targeted products for different groups. \n",
    "\n",
    "**Business problem.** The marketing department wants you to determine: **\"Do there exist statistically significant differences in the bank balances of your customer segments (by age, job, education, marital status, etc.)?\"** \n",
    "\n",
    "**Analytical Context.** The dataset that we will use in this case was retrieved from Kaggle (https://www.kaggle.com/skverma875/bank-marketing-dataset). In this case, we will take the first step towards transitioning from **exploratory data analysis** to **confirmatory analysis**. We will: (1) learn a formal framework for hypothesis testing; (2) learn about $p$ - values; (3) generate a hypothesis from exploratory data analysis; and finally (4) analyze the results of a hypothesis test."
   ]
  },
  {
   "cell_type": "code",
   "execution_count": 3,
   "metadata": {},
   "outputs": [
    {
     "ename": "ModuleNotFoundError",
     "evalue": "No module named 'pingouin'",
     "output_type": "error",
     "traceback": [
      "\u001b[0;31m---------------------------------------------------------------------------\u001b[0m",
      "\u001b[0;31mModuleNotFoundError\u001b[0m                       Traceback (most recent call last)",
      "\u001b[0;32m<ipython-input-3-0da3a5377232>\u001b[0m in \u001b[0;36m<module>\u001b[0;34m\u001b[0m\n\u001b[1;32m      7\u001b[0m \u001b[0;32mimport\u001b[0m \u001b[0mstatsmodels\u001b[0m\u001b[0;34m\u001b[0m\u001b[0;34m\u001b[0m\u001b[0m\n\u001b[1;32m      8\u001b[0m \u001b[0;32mfrom\u001b[0m \u001b[0mscipy\u001b[0m \u001b[0;32mimport\u001b[0m \u001b[0mstats\u001b[0m\u001b[0;34m\u001b[0m\u001b[0;34m\u001b[0m\u001b[0m\n\u001b[0;32m----> 9\u001b[0;31m \u001b[0;32mfrom\u001b[0m \u001b[0mpingouin\u001b[0m \u001b[0;32mimport\u001b[0m \u001b[0mpairwise_ttests\u001b[0m \u001b[0;31m#this is for performing the pairwise tests\u001b[0m\u001b[0;34m\u001b[0m\u001b[0;34m\u001b[0m\u001b[0m\n\u001b[0m",
      "\u001b[0;31mModuleNotFoundError\u001b[0m: No module named 'pingouin'"
     ]
    }
   ],
   "source": [
    "import pandas as pd\n",
    "import numpy as np\n",
    "import matplotlib.pyplot as plt\n",
    "import seaborn as sns\n",
    "import statsmodels.api as sm\n",
    "from statsmodels.formula.api import ols\n",
    "import statsmodels\n",
    "from scipy import stats\n",
    "from pingouin import pairwise_ttests #this is for performing the pairwise tests"
   ]
  },
  {
   "cell_type": "markdown",
   "metadata": {},
   "source": [
    "## Data Exploration"
   ]
  },
  {
   "cell_type": "markdown",
   "metadata": {},
   "source": [
    "The data includes the account balance of 45,211 customers, along with several other characteristics:"
   ]
  },
  {
   "cell_type": "code",
   "execution_count": 3,
   "metadata": {
    "colab": {
     "base_uri": "https://localhost:8080/",
     "height": 233
    },
    "colab_type": "code",
    "id": "IAeKAI4GYfXj",
    "outputId": "0afd3e03-0e57-4bf8-ff8a-1fdd70a2275c"
   },
   "outputs": [
    {
     "data": {
      "text/plain": [
       "(45211, 17)"
      ]
     },
     "execution_count": 3,
     "metadata": {},
     "output_type": "execute_result"
    }
   ],
   "source": [
    "bank = pd.read_csv(\"bank-full.csv\")\n",
    "bank.shape"
   ]
  },
  {
   "cell_type": "code",
   "execution_count": 4,
   "metadata": {},
   "outputs": [
    {
     "data": {
      "text/html": [
       "<div>\n",
       "<style scoped>\n",
       "    .dataframe tbody tr th:only-of-type {\n",
       "        vertical-align: middle;\n",
       "    }\n",
       "\n",
       "    .dataframe tbody tr th {\n",
       "        vertical-align: top;\n",
       "    }\n",
       "\n",
       "    .dataframe thead th {\n",
       "        text-align: right;\n",
       "    }\n",
       "</style>\n",
       "<table border=\"1\" class=\"dataframe\">\n",
       "  <thead>\n",
       "    <tr style=\"text-align: right;\">\n",
       "      <th></th>\n",
       "      <th>age</th>\n",
       "      <th>job</th>\n",
       "      <th>marital</th>\n",
       "      <th>education</th>\n",
       "      <th>default</th>\n",
       "      <th>balance</th>\n",
       "      <th>housing</th>\n",
       "      <th>loan</th>\n",
       "      <th>contact</th>\n",
       "      <th>day</th>\n",
       "      <th>month</th>\n",
       "      <th>duration</th>\n",
       "      <th>campaign</th>\n",
       "      <th>pdays</th>\n",
       "      <th>previous</th>\n",
       "      <th>poutcome</th>\n",
       "      <th>y</th>\n",
       "    </tr>\n",
       "  </thead>\n",
       "  <tbody>\n",
       "    <tr>\n",
       "      <th>0</th>\n",
       "      <td>58</td>\n",
       "      <td>management</td>\n",
       "      <td>married</td>\n",
       "      <td>tertiary</td>\n",
       "      <td>no</td>\n",
       "      <td>2143</td>\n",
       "      <td>yes</td>\n",
       "      <td>no</td>\n",
       "      <td>unknown</td>\n",
       "      <td>5</td>\n",
       "      <td>may</td>\n",
       "      <td>261</td>\n",
       "      <td>1</td>\n",
       "      <td>-1</td>\n",
       "      <td>0</td>\n",
       "      <td>unknown</td>\n",
       "      <td>no</td>\n",
       "    </tr>\n",
       "    <tr>\n",
       "      <th>1</th>\n",
       "      <td>44</td>\n",
       "      <td>technician</td>\n",
       "      <td>single</td>\n",
       "      <td>secondary</td>\n",
       "      <td>no</td>\n",
       "      <td>29</td>\n",
       "      <td>yes</td>\n",
       "      <td>no</td>\n",
       "      <td>unknown</td>\n",
       "      <td>5</td>\n",
       "      <td>may</td>\n",
       "      <td>151</td>\n",
       "      <td>1</td>\n",
       "      <td>-1</td>\n",
       "      <td>0</td>\n",
       "      <td>unknown</td>\n",
       "      <td>no</td>\n",
       "    </tr>\n",
       "    <tr>\n",
       "      <th>2</th>\n",
       "      <td>33</td>\n",
       "      <td>entrepreneur</td>\n",
       "      <td>married</td>\n",
       "      <td>secondary</td>\n",
       "      <td>no</td>\n",
       "      <td>2</td>\n",
       "      <td>yes</td>\n",
       "      <td>yes</td>\n",
       "      <td>unknown</td>\n",
       "      <td>5</td>\n",
       "      <td>may</td>\n",
       "      <td>76</td>\n",
       "      <td>1</td>\n",
       "      <td>-1</td>\n",
       "      <td>0</td>\n",
       "      <td>unknown</td>\n",
       "      <td>no</td>\n",
       "    </tr>\n",
       "    <tr>\n",
       "      <th>3</th>\n",
       "      <td>47</td>\n",
       "      <td>blue-collar</td>\n",
       "      <td>married</td>\n",
       "      <td>unknown</td>\n",
       "      <td>no</td>\n",
       "      <td>1506</td>\n",
       "      <td>yes</td>\n",
       "      <td>no</td>\n",
       "      <td>unknown</td>\n",
       "      <td>5</td>\n",
       "      <td>may</td>\n",
       "      <td>92</td>\n",
       "      <td>1</td>\n",
       "      <td>-1</td>\n",
       "      <td>0</td>\n",
       "      <td>unknown</td>\n",
       "      <td>no</td>\n",
       "    </tr>\n",
       "    <tr>\n",
       "      <th>4</th>\n",
       "      <td>33</td>\n",
       "      <td>unknown</td>\n",
       "      <td>single</td>\n",
       "      <td>unknown</td>\n",
       "      <td>no</td>\n",
       "      <td>1</td>\n",
       "      <td>no</td>\n",
       "      <td>no</td>\n",
       "      <td>unknown</td>\n",
       "      <td>5</td>\n",
       "      <td>may</td>\n",
       "      <td>198</td>\n",
       "      <td>1</td>\n",
       "      <td>-1</td>\n",
       "      <td>0</td>\n",
       "      <td>unknown</td>\n",
       "      <td>no</td>\n",
       "    </tr>\n",
       "  </tbody>\n",
       "</table>\n",
       "</div>"
      ],
      "text/plain": [
       "   age           job  marital  education default  balance housing loan  \\\n",
       "0   58    management  married   tertiary      no     2143     yes   no   \n",
       "1   44    technician   single  secondary      no       29     yes   no   \n",
       "2   33  entrepreneur  married  secondary      no        2     yes  yes   \n",
       "3   47   blue-collar  married    unknown      no     1506     yes   no   \n",
       "4   33       unknown   single    unknown      no        1      no   no   \n",
       "\n",
       "   contact  day month  duration  campaign  pdays  previous poutcome   y  \n",
       "0  unknown    5   may       261         1     -1         0  unknown  no  \n",
       "1  unknown    5   may       151         1     -1         0  unknown  no  \n",
       "2  unknown    5   may        76         1     -1         0  unknown  no  \n",
       "3  unknown    5   may        92         1     -1         0  unknown  no  \n",
       "4  unknown    5   may       198         1     -1         0  unknown  no  "
      ]
     },
     "execution_count": 4,
     "metadata": {},
     "output_type": "execute_result"
    }
   ],
   "source": [
    "bank.head()"
   ]
  },
  {
   "cell_type": "markdown",
   "metadata": {},
   "source": [
    "The relevant features we will use in this case are:\n",
    "* **balance:** bank balance; key variable of interest\n",
    "* **job:** the title of the job (“management”, “technician”, etc)\n",
    "* **marital:** marital status (\"single\", \"married\" or \"divorced\")\n",
    "* **education:** different levels of education (\"primary\",\"secondary\",\"tertiary\",\"unknown\")\n",
    "* **default:** the customer defaulted (\"yes\" or \"no\")\n",
    "* **loan:** the customer took out a loan (\"yes\" or \"no\")"
   ]
  },
  {
   "cell_type": "code",
   "execution_count": 1,
   "metadata": {},
   "outputs": [
    {
     "ename": "NameError",
     "evalue": "name 'bank' is not defined",
     "output_type": "error",
     "traceback": [
      "\u001b[0;31m---------------------------------------------------------------------------\u001b[0m",
      "\u001b[0;31mNameError\u001b[0m                                 Traceback (most recent call last)",
      "\u001b[0;32m<ipython-input-1-a7485ae5c5a5>\u001b[0m in \u001b[0;36m<module>\u001b[0;34m\u001b[0m\n\u001b[0;32m----> 1\u001b[0;31m \u001b[0mbank\u001b[0m\u001b[0;34m.\u001b[0m\u001b[0mdescribe\u001b[0m\u001b[0;34m(\u001b[0m\u001b[0;34m)\u001b[0m\u001b[0;34m\u001b[0m\u001b[0;34m\u001b[0m\u001b[0m\n\u001b[0m",
      "\u001b[0;31mNameError\u001b[0m: name 'bank' is not defined"
     ]
    }
   ],
   "source": [
    "bank.describe()"
   ]
  },
  {
   "cell_type": "code",
   "execution_count": 2,
   "metadata": {},
   "outputs": [
    {
     "ename": "NameError",
     "evalue": "name 'plt' is not defined",
     "output_type": "error",
     "traceback": [
      "\u001b[0;31m---------------------------------------------------------------------------\u001b[0m",
      "\u001b[0;31mNameError\u001b[0m                                 Traceback (most recent call last)",
      "\u001b[0;32m<ipython-input-2-10d23623ac91>\u001b[0m in \u001b[0;36m<module>\u001b[0;34m\u001b[0m\n\u001b[0;32m----> 1\u001b[0;31m \u001b[0mplt\u001b[0m\u001b[0;34m.\u001b[0m\u001b[0mhist\u001b[0m\u001b[0;34m(\u001b[0m\u001b[0mbank\u001b[0m\u001b[0;34m[\u001b[0m\u001b[0;34m'balance'\u001b[0m\u001b[0;34m]\u001b[0m\u001b[0;34m,\u001b[0m\u001b[0mbins\u001b[0m \u001b[0;34m=\u001b[0m \u001b[0;36m30\u001b[0m\u001b[0;34m)\u001b[0m\u001b[0;34m;\u001b[0m\u001b[0;34m\u001b[0m\u001b[0;34m\u001b[0m\u001b[0m\n\u001b[0m",
      "\u001b[0;31mNameError\u001b[0m: name 'plt' is not defined"
     ]
    }
   ],
   "source": [
    "plt.hist(bank['balance'],bins = 30);"
   ]
  },
  {
   "cell_type": "markdown",
   "metadata": {},
   "source": [
    "### Exercise 1:\n",
    "\n",
    "From the tables and histogram above, we see a huge range in the bank balance of your customers. Why do you think this is?"
   ]
  },
  {
   "cell_type": "markdown",
   "metadata": {},
   "source": [
    "**Answer:**"
   ]
  },
  {
   "cell_type": "markdown",
   "metadata": {},
   "source": [
    "Let us understand our data further, by plotting the variables."
   ]
  },
  {
   "cell_type": "markdown",
   "metadata": {},
   "source": [
    "### Exercise 2:\n",
    "\n",
    "Consider the variables `job`, `marital`, `education`, `default`, `housing`, `loan`. For each variable, write code to plot the number of customers in each category of that variable, using the command `sns.countplot()`."
   ]
  },
  {
   "cell_type": "markdown",
   "metadata": {},
   "source": [
    "**Answer.**:"
   ]
  },
  {
   "cell_type": "code",
   "execution_count": 1,
   "metadata": {
    "colab": {
     "base_uri": "https://localhost:8080/",
     "height": 295
    },
    "colab_type": "code",
    "id": "c3c5gn_IaJqT",
    "outputId": "e2cc2c8a-cde1-4b29-eee1-c83999107282"
   },
   "outputs": [],
   "source": [
    "# Write Code Here  "
   ]
  },
  {
   "cell_type": "markdown",
   "metadata": {},
   "source": [
    "### Exercise 3:\n",
    "\n",
    "Last year the average balance for the entire population of the bank's customers was \\\\$1341.12. How much higher is the sample average balance this year? Is this difference significant?"
   ]
  },
  {
   "cell_type": "markdown",
   "metadata": {},
   "source": [
    "**Answer.**"
   ]
  },
  {
   "cell_type": "code",
   "execution_count": null,
   "metadata": {},
   "outputs": [],
   "source": []
  },
  {
   "cell_type": "markdown",
   "metadata": {},
   "source": [
    "## Analytical framework for hypothesis testing\n",
    "\n",
    "The procedure that we use to help us decide whether a difference between the mean $\\mu$ of a population and a reference value $\\mu_0$ is **statistically significant** is called **hypothesis testing**. In our context,\n",
    "$\\mu$ is the average bank balance of the customers this year and $\\mu_0$ is their average bank balance last year.\n",
    "\n",
    "The first step is defining the null hypothesis (often indicated as $H_0$). The null hypothesis **always** corresponds to the hypothesis of no change; that is,  the status quo is still valid. Formally, this is written as: $ H_0: \\mu = \\mu_0 $.\n",
    "\n",
    "In our case, $H_0$ would be equivalent in hypothesizing that the average balance for the entire customer population $\\mu$ is the same as the average balance last year $\\mu_0 = \\$1341.12$. We wish to test if $H_0$ is wrong; that is, if $\\mu$ is different from $\\mu_0 = \\$1341.12$."
   ]
  },
  {
   "cell_type": "markdown",
   "metadata": {},
   "source": [
    "### Question:\n",
    "\n",
    "We said before that the null hypothesis **always** corresponds to the hypothesis of no change; that is, the status quo is still valid. Why is this? Why didn't we setup the null hypothesis to be $ H_0: \\mu > \\mu_0 $?"
   ]
  },
  {
   "cell_type": "markdown",
   "metadata": {},
   "source": [
    "**Answer:**"
   ]
  },
  {
   "cell_type": "markdown",
   "metadata": {},
   "source": [
    "### Alternative Hypothesis \n",
    "\n",
    "In opposition to the null hypothesis, we define an alternative hypothesis (often indicated with $H_1$ or $H_a$) to challenge the status quo. We can have three different ways to define an alternative hypothesis:\n",
    "\n",
    "1. $H_a: \\mu \\neq \\mu_0$ (two-sided test)\n",
    "\n",
    "2. $H_a: \\mu > \\mu_0$ (one-sided test)\n",
    "\n",
    "3. $H_a: \\mu < \\mu_0$ (one-sided test)\n",
    "\n",
    "The statistical test will help us decide if there is enough evidence to reject the null hypothesis in favor of an alternative."
   ]
  },
  {
   "cell_type": "markdown",
   "metadata": {},
   "source": [
    "### Conducting a hypothesis test\n",
    "\n",
    "Returning to our case, suppose we wish to perform a statistical test to assess the hypothesis of management:\n",
    "\n",
    "$$ H_0: \\mu= 1341.12$$\n",
    "$$ H_a: \\mu \\neq 1341.12$$\n",
    "\n",
    "There are two possible outcomes for this test: (1) We conclude $H_0$ is false, and say we **reject $H_0$**. In this case we will conclude that there is statistical evidence for the alternative $H_a$ and that the bank balance of customers this year is indeed different from 1341.12 USD. Or (2) we **fail to reject $H_0$**. In this case, we conclude that there is not enough statistical evidence  to conclude that $H_0$ is false. **Notice that in the second case we cannot say that the original hypothesis is true.** (In fact, there is no test out there that will tell you that a hypothesis is true. Why do you think that is?)"
   ]
  },
  {
   "cell_type": "markdown",
   "metadata": {},
   "source": [
    "The following command lets us run this test:"
   ]
  },
  {
   "cell_type": "code",
   "execution_count": 9,
   "metadata": {},
   "outputs": [
    {
     "data": {
      "text/plain": [
       "Ttest_1sampResult(statistic=1.4769973489267905, pvalue=0.13968331332845219)"
      ]
     },
     "execution_count": 9,
     "metadata": {},
     "output_type": "execute_result"
    }
   ],
   "source": [
    "stats.ttest_1samp(bank['balance'], popmean=1341.122)"
   ]
  },
  {
   "cell_type": "markdown",
   "metadata": {},
   "source": [
    "### Reading the output of a statistical test: $p$ - values"
   ]
  },
  {
   "cell_type": "markdown",
   "metadata": {},
   "source": [
    "Statistical tests report a **$p$ - value**. This is the key quantity that we will use to determine if the outcome of the test was significant. Let's introduce another quantity $\\alpha$ which we will call the significance level; this will be explained later. For now, set $\\alpha = 0.05$.\n",
    "\n",
    "We can have two outcomes:\n",
    "\n",
    "1. If this probability is smaller than our significance level ($p < \\alpha$) we reject $H_0$ and we claim that the observed difference is \"statistically significant\".\n",
    "2. If this probability is greater than our significance level ($p > \\alpha$) we have to retain $H_0$ and we claim that the observed difference is not statistically significant."
   ]
  },
  {
   "cell_type": "markdown",
   "metadata": {},
   "source": [
    "### Question:\n",
    "\n",
    "What do you conclude from the output? Do we reject $H_0$ or retain it?\n",
    "\n",
    "**Answer:**"
   ]
  },
  {
   "cell_type": "markdown",
   "metadata": {},
   "source": [
    "### Question:\n",
    "\n",
    "What change do we have to make if the alternative was one-sided?\n",
    "\n",
    "**Answer:**"
   ]
  },
  {
   "cell_type": "code",
   "execution_count": 4,
   "metadata": {},
   "outputs": [
    {
     "ename": "NameError",
     "evalue": "name 'bank' is not defined",
     "output_type": "error",
     "traceback": [
      "\u001b[0;31m---------------------------------------------------------------------------\u001b[0m",
      "\u001b[0;31mNameError\u001b[0m                                 Traceback (most recent call last)",
      "\u001b[0;32m<ipython-input-4-6319ad68c94f>\u001b[0m in \u001b[0;36m<module>\u001b[0;34m\u001b[0m\n\u001b[0;32m----> 1\u001b[0;31m \u001b[0mT\u001b[0m\u001b[0;34m,\u001b[0m\u001b[0mp\u001b[0m \u001b[0;34m=\u001b[0m \u001b[0mstats\u001b[0m\u001b[0;34m.\u001b[0m\u001b[0mttest_1samp\u001b[0m\u001b[0;34m(\u001b[0m\u001b[0mbank\u001b[0m\u001b[0;34m[\u001b[0m\u001b[0;34m'balance'\u001b[0m\u001b[0;34m]\u001b[0m\u001b[0;34m,\u001b[0m \u001b[0mpopmean\u001b[0m\u001b[0;34m=\u001b[0m\u001b[0;36m1341.122\u001b[0m\u001b[0;34m)\u001b[0m\u001b[0;34m\u001b[0m\u001b[0;34m\u001b[0m\u001b[0m\n\u001b[0m\u001b[1;32m      2\u001b[0m \u001b[0mp_value\u001b[0m \u001b[0;34m=\u001b[0m \u001b[0mp\u001b[0m\u001b[0;34m/\u001b[0m\u001b[0;36m2\u001b[0m\u001b[0;34m\u001b[0m\u001b[0;34m\u001b[0m\u001b[0m\n",
      "\u001b[0;31mNameError\u001b[0m: name 'bank' is not defined"
     ]
    }
   ],
   "source": [
    "T,p = stats.ttest_1samp(bank['balance'], popmean=1341.122)\n",
    "p_value = p/2"
   ]
  },
  {
   "cell_type": "markdown",
   "metadata": {},
   "source": [
    "### Exercise 4:\n",
    "\n",
    "We retained $H_0$ above. Are we 100% sure this decision is correct? Why or why not?"
   ]
  },
  {
   "cell_type": "markdown",
   "metadata": {},
   "source": [
    "**Answer:**"
   ]
  },
  {
   "cell_type": "markdown",
   "metadata": {},
   "source": [
    "## Errors due to a wrong conclusion from a hypothesis test"
   ]
  },
  {
   "cell_type": "markdown",
   "metadata": {},
   "source": [
    "\n",
    "There are two ways that a test can lead us to an incorrect decision:\n",
    "\n",
    "1. When $H_0$ is true and we reject it. This is called **Type 1 Error**. It corresponds to obtaining a **false positive**.\n",
    "2. When $H_0$ is false and we do not reject it. This is called **Type 2 Error**. It corresponds to having a **false negative**.\n",
    "\n",
    "<table>\n",
    "<tr>\n",
    "<td></td><td><b>$H_0$ is true </b></td><td><b> $H_0$ is False</b></td>\n",
    "</tr>\n",
    "<tr>\n",
    "<td><b>Reject $H_0$</b></td><td>Type I error</td><td>Correct Decision (True Positive)</td>\n",
    "</tr>\n",
    "<tr>\n",
    "<td><b>Fail to Reject $H_0$ </b></td><td>Correct Decision (True negative) </td><td>Type II error</td>\n",
    "</tr>\n",
    "</table>"
   ]
  },
  {
   "cell_type": "markdown",
   "metadata": {},
   "source": [
    "In general, we cannot control both the Type I and Type II error. So the type of an error we control depends on the situation."
   ]
  },
  {
   "cell_type": "markdown",
   "metadata": {},
   "source": [
    "### Exercise 5:\n",
    "\n",
    "Discuss the following two scenarios with your teammates:\n",
    "\n",
    "1. A patient is getting a diagnostic test for finding out if they are infected with HIV virus. What is the null hypothesis here? What is more serious here: making a Type I error (false positive) or Type II error (false negative)? Why?\n",
    "2. You are getting a lot of spam emails, so you are writing a spam filter algorithm to detect whether an email is spam or not.  What is the null hypothesis here? What is more serious here: making a Type I error (false positive) or Type II error (false negative)? Why?"
   ]
  },
  {
   "cell_type": "markdown",
   "metadata": {},
   "source": [
    "## Controlling the Type I error: significance level"
   ]
  },
  {
   "cell_type": "markdown",
   "metadata": {},
   "source": [
    "It is standard practice to minimize the probability of making a Type I error. The probability, usually denoted by $\\alpha$, is the significance level we introduced above. Typically we choose our significance level $\\alpha$ to be $5\\%$. Thus, if we reject $H_0$ with $\\alpha = 0.05$, then there is only a $5\\%$ chance that the conclusion we make is a false positive. Lowering the $\\alpha$ value (say to $1\\%$) will decrease the probability of making a false positive conclusion.\n",
    "\n",
    "Of course, as we discussed before, because we control $\\alpha$, we cannot control the Type II error we make. "
   ]
  },
  {
   "cell_type": "markdown",
   "metadata": {
    "colab_type": "text",
    "id": "bJZNzPTBm2Q2"
   },
   "source": [
    "### Finding cohorts within your customer base\n",
    "\n",
    "The goal of your team is to determine whether there are differences among different groups of customers in terms of bank balances. We start by looking at balance for two cohorts: those who took out a loan and those who didn't:"
   ]
  },
  {
   "cell_type": "code",
   "execution_count": 11,
   "metadata": {
    "colab": {
     "base_uri": "https://localhost:8080/",
     "height": 283
    },
    "colab_type": "code",
    "id": "gmFbmYIveTBt",
    "outputId": "a14928c6-c740-4e0a-e39c-8bffd13728e6"
   },
   "outputs": [
    {
     "data": {
      "image/png": "[encoded data removed]",
      "text/plain": [
       "<Figure size 432x288 with 1 Axes>"
      ]
     },
     "metadata": {
      "needs_background": "light"
     },
     "output_type": "display_data"
    }
   ],
   "source": [
    "ax = sns.stripplot(x=\"loan\", y=\"balance\", data=bank)\n",
    "plt.ylabel('balance')\n",
    "plt.show()"
   ]
  },
  {
   "cell_type": "markdown",
   "metadata": {
    "colab_type": "text",
    "id": "ht0A1wS5m9WU"
   },
   "source": [
    "Since the distribution of the data has very heavy tails, it is hard to tell much from the strip plot whether there is a difference between the two subgroup means. We continue our data analysis by looking at summary statistics for each of the two groups:"
   ]
  },
  {
   "cell_type": "code",
   "execution_count": 12,
   "metadata": {
    "colab": {
     "base_uri": "https://localhost:8080/",
     "height": 183
    },
    "colab_type": "code",
    "id": "Y7EtTq5Uc65h",
    "outputId": "66e934b9-f962-42ac-c0a0-06f3c8063fd1"
   },
   "outputs": [
    {
     "data": {
      "text/plain": [
       "count     7244.000000\n",
       "mean       774.309912\n",
       "std       1908.283253\n",
       "min      -8019.000000\n",
       "25%          2.000000\n",
       "50%        258.000000\n",
       "75%        864.250000\n",
       "max      51439.000000\n",
       "Name: balance, dtype: float64"
      ]
     },
     "execution_count": 12,
     "metadata": {},
     "output_type": "execute_result"
    }
   ],
   "source": [
    "bank[bank.loan==\"yes\"].balance.describe()"
   ]
  },
  {
   "cell_type": "code",
   "execution_count": 13,
   "metadata": {
    "colab": {
     "base_uri": "https://localhost:8080/",
     "height": 183
    },
    "colab_type": "code",
    "id": "sE8csnLec-xa",
    "outputId": "d69cbe03-f326-40de-f287-21de9daec634"
   },
   "outputs": [
    {
     "data": {
      "text/plain": [
       "count     37967.000000\n",
       "mean       1474.453631\n",
       "std        3204.088951\n",
       "min       -4057.000000\n",
       "25%          94.000000\n",
       "50%         496.000000\n",
       "75%        1558.000000\n",
       "max      102127.000000\n",
       "Name: balance, dtype: float64"
      ]
     },
     "execution_count": 13,
     "metadata": {},
     "output_type": "execute_result"
    }
   ],
   "source": [
    "bank[bank.loan==\"no\"].balance.describe()"
   ]
  },
  {
   "cell_type": "markdown",
   "metadata": {
    "colab_type": "text",
    "id": "4kU6dlOanDTU"
   },
   "source": [
    "### Are the means of the loan and no loan groups significantly different? (5 mts)\n",
    "\n",
    "We would like to test statistically whether the two group means are different from each other, that is, whether the difference between the mean balance in the groups with a loan ($\\mu_1$) is different than the mean balance in the group with no loan ($\\mu_2$). The testing procedure that we described can be used also to answer this question:\n",
    "$$ H_0: \\mu_1=\\mu_2$$\n",
    "$$H_a: \\mu_1 \\neq \\mu_2$$\n",
    "\n",
    "We get the following output:"
   ]
  },
  {
   "cell_type": "code",
   "execution_count": 14,
   "metadata": {
    "colab": {
     "base_uri": "https://localhost:8080/",
     "height": 35
    },
    "colab_type": "code",
    "id": "QuS9muu0fSvn",
    "outputId": "ce3753ff-1c31-4304-b192-52a765781dea"
   },
   "outputs": [
    {
     "data": {
      "text/plain": [
       "(-25.18086057755715, 2.7640564777544156e-137)"
      ]
     },
     "execution_count": 14,
     "metadata": {},
     "output_type": "execute_result"
    }
   ],
   "source": [
    "statistic, pvalue = stats.ttest_ind(bank[bank.loan==\"yes\"].balance, bank[bank.loan==\"no\"].balance, equal_var=False)\n",
    "statistic, pvalue"
   ]
  },
  {
   "cell_type": "markdown",
   "metadata": {},
   "source": [
    "### Question:\n",
    "\n",
    "What would you conclude from the above test?"
   ]
  },
  {
   "cell_type": "markdown",
   "metadata": {
    "colab_type": "text",
    "id": "S3Aa_hUXnFeq"
   },
   "source": [
    "**Answer:**"
   ]
  },
  {
   "cell_type": "markdown",
   "metadata": {
    "colab_type": "text",
    "id": "LUE063ORnT-Y"
   },
   "source": [
    "### Differences by education:\n",
    "\n",
    "In our search to determine what factors are important in customer segmentation, we can identify in this large dataset if education plays a role in customer behavior. The variable `education` has 4 categories:"
   ]
  },
  {
   "cell_type": "code",
   "execution_count": 15,
   "metadata": {
    "colab": {
     "base_uri": "https://localhost:8080/",
     "height": 35
    },
    "colab_type": "code",
    "id": "jj8uzPVsjWfD",
    "outputId": "a88582bd-a847-46da-b314-cf9634bfd161"
   },
   "outputs": [
    {
     "data": {
      "text/plain": [
       "array(['tertiary', 'secondary', 'unknown', 'primary'], dtype=object)"
      ]
     },
     "execution_count": 15,
     "metadata": {},
     "output_type": "execute_result"
    }
   ],
   "source": [
    "bank[\"education\"].unique()"
   ]
  },
  {
   "cell_type": "markdown",
   "metadata": {
    "colab_type": "text",
    "id": "wj9mgrxbnYR3"
   },
   "source": [
    "### Exercise 6:\n",
    "\n",
    "Write code to visualize the balance by education via a strip plot (i.e. grouped 1D scatterplot). From your visual exploration, do you think there is a difference across the groups? "
   ]
  },
  {
   "cell_type": "markdown",
   "metadata": {},
   "source": [
    "**Answer:**"
   ]
  },
  {
   "cell_type": "code",
   "execution_count": 2,
   "metadata": {
    "colab": {
     "base_uri": "https://localhost:8080/",
     "height": 283
    },
    "colab_type": "code",
    "id": "CQbvXtrygj44",
    "outputId": "057fd2bf-f7da-47aa-8f0f-fdb96fe02214"
   },
   "outputs": [],
   "source": [
    "# Write code here"
   ]
  },
  {
   "cell_type": "markdown",
   "metadata": {
    "colab_type": "text",
    "id": "AUmV2Nynnbqo"
   },
   "source": [
    "**Answer:**"
   ]
  },
  {
   "cell_type": "markdown",
   "metadata": {
    "colab_type": "text",
    "id": "A7qO67bwnhAt"
   },
   "source": [
    "## Do bank balances differ significantly across education cohorts?\n",
    "\n",
    "Our new hypothesis will be:\n",
    "\n",
    "$$ H_0: \\mu_1=\\mu_2=\\mu_3=\\mu_4$$\n",
    "$$H_a : \\mathrm{At \\,least\\, one\\, of\\, the\\, means\\,} \\mu_j \\mathrm{\\,is \\,different\\, from\\, the \\,others}.$$\n",
    "\n",
    "To test this hypothesis we need an extension of the capabilities of the $t$ - test (which can test only two groups at the same time). This test is called **Analysis of Variance (ANOVA)**."
   ]
  },
  {
   "cell_type": "code",
   "execution_count": 17,
   "metadata": {
    "colab": {
     "base_uri": "https://localhost:8080/",
     "height": 110
    },
    "colab_type": "code",
    "id": "CMxvkQoNwtAQ",
    "outputId": "46622b60-6ebe-440c-fc2c-f808c2217f6c"
   },
   "outputs": [
    {
     "data": {
      "text/html": [
       "<div>\n",
       "<style scoped>\n",
       "    .dataframe tbody tr th:only-of-type {\n",
       "        vertical-align: middle;\n",
       "    }\n",
       "\n",
       "    .dataframe tbody tr th {\n",
       "        vertical-align: top;\n",
       "    }\n",
       "\n",
       "    .dataframe thead th {\n",
       "        text-align: right;\n",
       "    }\n",
       "</style>\n",
       "<table border=\"1\" class=\"dataframe\">\n",
       "  <thead>\n",
       "    <tr style=\"text-align: right;\">\n",
       "      <th></th>\n",
       "      <th>sum_sq</th>\n",
       "      <th>df</th>\n",
       "      <th>F</th>\n",
       "      <th>PR(&gt;F)</th>\n",
       "    </tr>\n",
       "  </thead>\n",
       "  <tbody>\n",
       "    <tr>\n",
       "      <th>education</th>\n",
       "      <td>3.220417e+09</td>\n",
       "      <td>3.0</td>\n",
       "      <td>116.682074</td>\n",
       "      <td>2.849538e-75</td>\n",
       "    </tr>\n",
       "    <tr>\n",
       "      <th>Residual</th>\n",
       "      <td>4.159034e+11</td>\n",
       "      <td>45207.0</td>\n",
       "      <td>NaN</td>\n",
       "      <td>NaN</td>\n",
       "    </tr>\n",
       "  </tbody>\n",
       "</table>\n",
       "</div>"
      ],
      "text/plain": [
       "                 sum_sq       df           F        PR(>F)\n",
       "education  3.220417e+09      3.0  116.682074  2.849538e-75\n",
       "Residual   4.159034e+11  45207.0         NaN           NaN"
      ]
     },
     "execution_count": 17,
     "metadata": {},
     "output_type": "execute_result"
    }
   ],
   "source": [
    "mod = ols('balance ~ education', data=bank).fit()  \n",
    "aov_table = sm.stats.anova_lm(mod, typ=2)\n",
    "aov_table"
   ]
  },
  {
   "cell_type": "markdown",
   "metadata": {
    "colab_type": "text",
    "id": "paIpyiA2npGK"
   },
   "source": [
    "As we can see, looking at the $p$ - value that accompanies the $F$ - statistics, we obtain a strong rejection of the null hypothesis, leading us to conclude that education groups have some differences in their means. The ANOVA test does not tell us which pair of groups have means that are different from each other. To investigate these differences further, we are going first to report the descriptive statistics by group, and then display the group means in a bar chart:"
   ]
  },
  {
   "cell_type": "code",
   "execution_count": 18,
   "metadata": {
    "colab": {
     "base_uri": "https://localhost:8080/",
     "height": 183
    },
    "colab_type": "code",
    "id": "K1xtB53Ig8Yq",
    "outputId": "983e3419-46a2-4255-fd4b-03c6ba02f9cb"
   },
   "outputs": [
    {
     "data": {
      "text/plain": [
       "count     6851.000000\n",
       "mean      1250.949934\n",
       "std       2690.743991\n",
       "min      -2604.000000\n",
       "25%         61.000000\n",
       "50%        403.000000\n",
       "75%       1390.000000\n",
       "max      71188.000000\n",
       "Name: balance, dtype: float64"
      ]
     },
     "execution_count": 18,
     "metadata": {},
     "output_type": "execute_result"
    }
   ],
   "source": [
    "bank[bank.education==\"primary\"].balance.describe()"
   ]
  },
  {
   "cell_type": "code",
   "execution_count": 19,
   "metadata": {
    "colab": {
     "base_uri": "https://localhost:8080/",
     "height": 183
    },
    "colab_type": "code",
    "id": "MOHTHDGqhGzJ",
    "outputId": "55ad8a83-c1da-4e0c-a1d3-83191474555d"
   },
   "outputs": [
    {
     "data": {
      "text/plain": [
       "count    23202.000000\n",
       "mean      1154.880786\n",
       "std       2558.256739\n",
       "min      -8019.000000\n",
       "25%         55.000000\n",
       "50%        392.000000\n",
       "75%       1234.000000\n",
       "max      81204.000000\n",
       "Name: balance, dtype: float64"
      ]
     },
     "execution_count": 19,
     "metadata": {},
     "output_type": "execute_result"
    }
   ],
   "source": [
    "bank[bank.education==\"secondary\"].balance.describe()"
   ]
  },
  {
   "cell_type": "code",
   "execution_count": 20,
   "metadata": {
    "colab": {
     "base_uri": "https://localhost:8080/",
     "height": 183
    },
    "colab_type": "code",
    "id": "Fkg9S7LThIfw",
    "outputId": "e90ea400-317e-4350-e971-6e2c582fb57a"
   },
   "outputs": [
    {
     "data": {
      "text/plain": [
       "count     13301.000000\n",
       "mean       1758.416435\n",
       "std        3839.088305\n",
       "min       -6847.000000\n",
       "25%         104.000000\n",
       "50%         577.000000\n",
       "75%        1804.000000\n",
       "max      102127.000000\n",
       "Name: balance, dtype: float64"
      ]
     },
     "execution_count": 20,
     "metadata": {},
     "output_type": "execute_result"
    }
   ],
   "source": [
    "bank[bank.education==\"tertiary\"].balance.describe()"
   ]
  },
  {
   "cell_type": "code",
   "execution_count": 21,
   "metadata": {
    "colab": {
     "base_uri": "https://localhost:8080/",
     "height": 183
    },
    "colab_type": "code",
    "id": "7WGb6P5uhLNO",
    "outputId": "be9a65b9-249c-41b8-bbe1-8450b6158d23"
   },
   "outputs": [
    {
     "data": {
      "text/plain": [
       "count     1857.000000\n",
       "mean      1526.754443\n",
       "std       3152.228273\n",
       "min      -1445.000000\n",
       "25%        106.000000\n",
       "50%        568.000000\n",
       "75%       1699.000000\n",
       "max      64343.000000\n",
       "Name: balance, dtype: float64"
      ]
     },
     "execution_count": 21,
     "metadata": {},
     "output_type": "execute_result"
    }
   ],
   "source": [
    "bank[bank.education==\"unknown\"].balance.describe()"
   ]
  },
  {
   "cell_type": "code",
   "execution_count": 22,
   "metadata": {
    "colab": {
     "base_uri": "https://localhost:8080/",
     "height": 283
    },
    "colab_type": "code",
    "id": "h9TOUV_4n9_u",
    "outputId": "36e058f2-2b79-47ad-f5e0-51608081e733"
   },
   "outputs": [
    {
     "data": {
      "image/png": "[encoded data removed]",
      "text/plain": [
       "<Figure size 432x288 with 1 Axes>"
      ]
     },
     "metadata": {
      "needs_background": "light"
     },
     "output_type": "display_data"
    }
   ],
   "source": [
    "mean_balance_education=bank.groupby(by=\"education\").balance.mean()\n",
    "sns.barplot(x=mean_balance_education.index, y=mean_balance_education.values, color=\"green\")\n",
    "plt.ylabel(\"Mean balance\")\n",
    "plt.show()"
   ]
  },
  {
   "cell_type": "markdown",
   "metadata": {
    "colab_type": "text",
    "id": "HbPCXYfKox2Q"
   },
   "source": [
    "Qualitatively there seems to be a big difference between tertiary and lower education levels, but the difference between primary and secondary education groups is more difficult to assess. We want to test if there is a significant difference in each pairwise comparison. To test this sequence of hypotheses we can use a variant of the $t$ - test, called a **pairwise $t$ - test**.\n"
   ]
  },
  {
   "cell_type": "code",
   "execution_count": 2,
   "metadata": {
    "colab": {
     "base_uri": "https://localhost:8080/",
     "height": 146
    },
    "colab_type": "code",
    "id": "IeAXp9Sbsv1q",
    "outputId": "71a8a597-992f-4132-f433-f94d0a274fdc"
   },
   "outputs": [
    {
     "ename": "NameError",
     "evalue": "name 'bank' is not defined",
     "output_type": "error",
     "traceback": [
      "\u001b[0;31m---------------------------------------------------------------------------\u001b[0m",
      "\u001b[0;31mNameError\u001b[0m                                 Traceback (most recent call last)",
      "\u001b[0;32m<ipython-input-2-8534218d0724>\u001b[0m in \u001b[0;36m<module>\u001b[0;34m()\u001b[0m\n\u001b[0;32m----> 1\u001b[0;31m \u001b[0mgb\u001b[0m \u001b[0;34m=\u001b[0m \u001b[0mbank\u001b[0m\u001b[0;34m.\u001b[0m\u001b[0mgroupby\u001b[0m\u001b[0;34m(\u001b[0m\u001b[0;34m[\u001b[0m\u001b[0;34m'education'\u001b[0m\u001b[0;34m]\u001b[0m\u001b[0;34m)\u001b[0m\u001b[0;34m\u001b[0m\u001b[0m\n\u001b[0m\u001b[1;32m      2\u001b[0m \u001b[0mgroup_names\u001b[0m \u001b[0;34m=\u001b[0m \u001b[0mbank\u001b[0m\u001b[0;34m[\u001b[0m\u001b[0;34m\"education\"\u001b[0m\u001b[0;34m]\u001b[0m\u001b[0;34m.\u001b[0m\u001b[0munique\u001b[0m\u001b[0;34m(\u001b[0m\u001b[0;34m)\u001b[0m\u001b[0;34m\u001b[0m\u001b[0m\n\u001b[1;32m      3\u001b[0m \u001b[0mprint\u001b[0m\u001b[0;34m(\u001b[0m\u001b[0;34m\"\\t\\t\\tstatistic\\t\\tpvalue\"\u001b[0m\u001b[0;34m)\u001b[0m\u001b[0;34m\u001b[0m\u001b[0m\n\u001b[1;32m      4\u001b[0m \u001b[0;32mfor\u001b[0m \u001b[0mi\u001b[0m \u001b[0;32min\u001b[0m \u001b[0mrange\u001b[0m\u001b[0;34m(\u001b[0m\u001b[0mlen\u001b[0m\u001b[0;34m(\u001b[0m\u001b[0mgroup_names\u001b[0m\u001b[0;34m)\u001b[0m\u001b[0;34m)\u001b[0m\u001b[0;34m:\u001b[0m\u001b[0;34m\u001b[0m\u001b[0m\n\u001b[1;32m      5\u001b[0m   \u001b[0;32mfor\u001b[0m \u001b[0mj\u001b[0m \u001b[0;32min\u001b[0m \u001b[0mrange\u001b[0m\u001b[0;34m(\u001b[0m\u001b[0mi\u001b[0m\u001b[0;34m+\u001b[0m\u001b[0;36m1\u001b[0m\u001b[0;34m,\u001b[0m \u001b[0mlen\u001b[0m\u001b[0;34m(\u001b[0m\u001b[0mgroup_names\u001b[0m\u001b[0;34m)\u001b[0m\u001b[0;34m)\u001b[0m\u001b[0;34m:\u001b[0m\u001b[0;34m\u001b[0m\u001b[0m\n",
      "\u001b[0;31mNameError\u001b[0m: name 'bank' is not defined"
     ]
    }
   ],
   "source": [
    "gb = bank.groupby(['education'])\n",
    "group_names = bank[\"education\"].unique()\n",
    "print(\"\\t\\t\\tstatistic\\t\\tpvalue\")\n",
    "for i in range(len(group_names)):\n",
    "  for j in range(i+1, len(group_names)):\n",
    "    group1 = gb[[\"balance\"]].get_group(group_names[i])\n",
    "    group2 = gb[[\"balance\"]].get_group(group_names[j])\n",
    "    stat, pvalue = stats.ttest_ind(group1, group2, equal_var = False)\n",
    "    print(group_names[i] + \" vs. \" + group_names[j] + \"\\t\" + str(stat[0]) + \"\\t\" + str(pvalue[0]))"
   ]
  },
  {
   "cell_type": "markdown",
   "metadata": {
    "colab_type": "text",
    "id": "t8Cazq0Xvp0B"
   },
   "source": [
    "The summary output above signals that there is a significant difference between each pairwise comparison.\n"
   ]
  },
  {
   "cell_type": "markdown",
   "metadata": {
    "colab_type": "text",
    "id": "knu1EmVE4wKb"
   },
   "source": [
    "### Exercise 7:\n",
    "\n",
    "There are six comparisons in total that have to be conducted because the variable education has 4 levels. Discuss with a partner if, in your opinion, performing multiple tests simultaneously can increase the risk of erroneous inferences.\n",
    "What will increase: Type I error or Type II error?\n",
    "\n",
    "**Answer:**"
   ]
  },
  {
   "cell_type": "markdown",
   "metadata": {},
   "source": [
    "### Multiple comparisons: the Bonferroni correction"
   ]
  },
  {
   "cell_type": "markdown",
   "metadata": {},
   "source": [
    "There are many ways to correct this issue, known as the \"multiple comparisons\" problem. One of the most classical methods is the Bonferroni correction. This method divides the significance level $\\alpha$ by the number of multiple comparisons being performed (6 in this case). So if our $\\alpha=0.05$ we will reject the null hypothesis only if the $p$ - value is less than 0.00833.\n",
    "\n",
    "Notice that the $p$ - value for the comparison between \"primary\" and \"secondary\" education is 0.02126, and therefore higher than the adjusted confidence level. After the correction we cannot reject the null hypothesis that this pair has significantly different means. Several software packages directly adjust the $p$ - values for the increased probability of observing a false positive. If we perform this method for `education`, we get the following output:"
   ]
  },
  {
   "cell_type": "code",
   "execution_count": 28,
   "metadata": {},
   "outputs": [
    {
     "data": {
      "text/html": [
       "<div>\n",
       "<style scoped>\n",
       "    .dataframe tbody tr th:only-of-type {\n",
       "        vertical-align: middle;\n",
       "    }\n",
       "\n",
       "    .dataframe tbody tr th {\n",
       "        vertical-align: top;\n",
       "    }\n",
       "\n",
       "    .dataframe thead th {\n",
       "        text-align: right;\n",
       "    }\n",
       "</style>\n",
       "<table border=\"1\" class=\"dataframe\">\n",
       "  <thead>\n",
       "    <tr style=\"text-align: right;\">\n",
       "      <th></th>\n",
       "      <th>Contrast</th>\n",
       "      <th>A</th>\n",
       "      <th>B</th>\n",
       "      <th>Paired</th>\n",
       "      <th>Parametric</th>\n",
       "      <th>T</th>\n",
       "      <th>dof</th>\n",
       "      <th>Tail</th>\n",
       "      <th>p-unc</th>\n",
       "      <th>p-corr</th>\n",
       "      <th>p-adjust</th>\n",
       "      <th>BF10</th>\n",
       "      <th>hedges</th>\n",
       "    </tr>\n",
       "  </thead>\n",
       "  <tbody>\n",
       "    <tr>\n",
       "      <th>0</th>\n",
       "      <td>education</td>\n",
       "      <td>tertiary</td>\n",
       "      <td>secondary</td>\n",
       "      <td>False</td>\n",
       "      <td>True</td>\n",
       "      <td>16.187</td>\n",
       "      <td>20183.40</td>\n",
       "      <td>two-sided</td>\n",
       "      <td>1.452547e-58</td>\n",
       "      <td>8.715285e-58</td>\n",
       "      <td>bonf</td>\n",
       "      <td>5.742e+54</td>\n",
       "      <td>0.195</td>\n",
       "    </tr>\n",
       "    <tr>\n",
       "      <th>1</th>\n",
       "      <td>education</td>\n",
       "      <td>tertiary</td>\n",
       "      <td>unknown</td>\n",
       "      <td>False</td>\n",
       "      <td>True</td>\n",
       "      <td>2.883</td>\n",
       "      <td>2688.20</td>\n",
       "      <td>two-sided</td>\n",
       "      <td>3.976238e-03</td>\n",
       "      <td>2.385743e-02</td>\n",
       "      <td>bonf</td>\n",
       "      <td>1.76</td>\n",
       "      <td>0.062</td>\n",
       "    </tr>\n",
       "    <tr>\n",
       "      <th>2</th>\n",
       "      <td>education</td>\n",
       "      <td>tertiary</td>\n",
       "      <td>primary</td>\n",
       "      <td>False</td>\n",
       "      <td>True</td>\n",
       "      <td>10.907</td>\n",
       "      <td>18353.42</td>\n",
       "      <td>two-sided</td>\n",
       "      <td>1.302385e-27</td>\n",
       "      <td>7.814307e-27</td>\n",
       "      <td>bonf</td>\n",
       "      <td>9.088e+23</td>\n",
       "      <td>0.145</td>\n",
       "    </tr>\n",
       "    <tr>\n",
       "      <th>3</th>\n",
       "      <td>education</td>\n",
       "      <td>secondary</td>\n",
       "      <td>unknown</td>\n",
       "      <td>False</td>\n",
       "      <td>True</td>\n",
       "      <td>-4.955</td>\n",
       "      <td>2056.38</td>\n",
       "      <td>two-sided</td>\n",
       "      <td>7.831117e-07</td>\n",
       "      <td>4.698670e-06</td>\n",
       "      <td>bonf</td>\n",
       "      <td>5633.685</td>\n",
       "      <td>-0.143</td>\n",
       "    </tr>\n",
       "    <tr>\n",
       "      <th>4</th>\n",
       "      <td>education</td>\n",
       "      <td>secondary</td>\n",
       "      <td>primary</td>\n",
       "      <td>False</td>\n",
       "      <td>True</td>\n",
       "      <td>-2.626</td>\n",
       "      <td>10768.24</td>\n",
       "      <td>two-sided</td>\n",
       "      <td>8.663969e-03</td>\n",
       "      <td>5.198382e-02</td>\n",
       "      <td>bonf</td>\n",
       "      <td>0.486</td>\n",
       "      <td>-0.037</td>\n",
       "    </tr>\n",
       "    <tr>\n",
       "      <th>5</th>\n",
       "      <td>education</td>\n",
       "      <td>unknown</td>\n",
       "      <td>primary</td>\n",
       "      <td>False</td>\n",
       "      <td>True</td>\n",
       "      <td>3.445</td>\n",
       "      <td>2633.68</td>\n",
       "      <td>two-sided</td>\n",
       "      <td>5.789324e-04</td>\n",
       "      <td>3.473594e-03</td>\n",
       "      <td>bonf</td>\n",
       "      <td>10.941</td>\n",
       "      <td>0.099</td>\n",
       "    </tr>\n",
       "  </tbody>\n",
       "</table>\n",
       "</div>"
      ],
      "text/plain": [
       "    Contrast          A          B  Paired  Parametric       T       dof  \\\n",
       "0  education   tertiary  secondary   False        True  16.187  20183.40   \n",
       "1  education   tertiary    unknown   False        True   2.883   2688.20   \n",
       "2  education   tertiary    primary   False        True  10.907  18353.42   \n",
       "3  education  secondary    unknown   False        True  -4.955   2056.38   \n",
       "4  education  secondary    primary   False        True  -2.626  10768.24   \n",
       "5  education    unknown    primary   False        True   3.445   2633.68   \n",
       "\n",
       "        Tail         p-unc        p-corr p-adjust       BF10  hedges  \n",
       "0  two-sided  1.452547e-58  8.715285e-58     bonf  5.742e+54   0.195  \n",
       "1  two-sided  3.976238e-03  2.385743e-02     bonf       1.76   0.062  \n",
       "2  two-sided  1.302385e-27  7.814307e-27     bonf  9.088e+23   0.145  \n",
       "3  two-sided  7.831117e-07  4.698670e-06     bonf   5633.685  -0.143  \n",
       "4  two-sided  8.663969e-03  5.198382e-02     bonf      0.486  -0.037  \n",
       "5  two-sided  5.789324e-04  3.473594e-03     bonf     10.941   0.099  "
      ]
     },
     "execution_count": 28,
     "metadata": {},
     "output_type": "execute_result"
    }
   ],
   "source": [
    "pairwise_results = pairwise_ttests(dv='balance', between = ['education'], padjust='bonf', data=bank)\n",
    "pairwise_results"
   ]
  },
  {
   "cell_type": "markdown",
   "metadata": {
    "colab_type": "text",
    "id": "nZh7n2nF42Fc"
   },
   "source": [
    "In the above table, ``p-unc`` stands for the uncorrected $p$ - value, and ``p-adjust`` stands for the corrected $p$ - value. The adjusted $p$ - value for \"secondary vs. primary\" is 0.052 (greater than 0.05), confiriming our calculation. We thus reject all of the null hypotheses except for the \"secondary vs. primary\" case."
   ]
  },
  {
   "cell_type": "markdown",
   "metadata": {
    "colab_type": "text",
    "id": "-qaM4jO-46fb"
   },
   "source": [
    "### Exercise 8:\n",
    "\n",
    "Perform an exploratory data analysis of the bank balance by job title. Write code to answer the following two questions:\n",
    "\n",
    "1. Are the group means the same? Write a hypothesis for this, clearly stating what $H_0$ is.\n",
    "2. Do a pairwise hypothesis test for comparing the different group means, applying the Bonferroni correction.\n",
    "3. Do you find any of the results of hypothesis tests of customers in management vs. other groups surprising?"
   ]
  },
  {
   "cell_type": "markdown",
   "metadata": {},
   "source": [
    "**Answer:**"
   ]
  },
  {
   "cell_type": "code",
   "execution_count": 3,
   "metadata": {
    "colab": {
     "base_uri": "https://localhost:8080/",
     "height": 301
    },
    "colab_type": "code",
    "id": "wq-dt-G25YqE",
    "outputId": "d2c7ad4e-cb52-4526-b8b9-4beae7092b01"
   },
   "outputs": [],
   "source": [
    "# Write code here"
   ]
  },
  {
   "cell_type": "code",
   "execution_count": 4,
   "metadata": {
    "colab": {
     "base_uri": "https://localhost:8080/",
     "height": 283
    },
    "colab_type": "code",
    "id": "l2c4a9Kg5_7f",
    "outputId": "4aa6c269-f794-43d7-c2ef-f383fe9f7282"
   },
   "outputs": [],
   "source": [
    "# Write code here"
   ]
  },
  {
   "cell_type": "code",
   "execution_count": 5,
   "metadata": {
    "colab": {
     "base_uri": "https://localhost:8080/",
     "height": 110
    },
    "colab_type": "code",
    "id": "U2mqZvB_7TFT",
    "outputId": "01e6ae84-b2ce-4b4f-ebb8-e1774648ab14"
   },
   "outputs": [],
   "source": [
    "# Write code here"
   ]
  },
  {
   "cell_type": "code",
   "execution_count": 6,
   "metadata": {},
   "outputs": [],
   "source": [
    "# Write code here"
   ]
  },
  {
   "cell_type": "markdown",
   "metadata": {
    "colab_type": "text",
    "id": "4Sm485Wg7Xh8"
   },
   "source": [
    "## Conclusions\n",
    "\n",
    "After doing exploratory data analysis, we formally introduced hypothesis tests. We saw that education level definitely affects the bank balance; customers with a tertiary education seem to have a statistically significant different bank balance compared to the rest of the population. However, after adjusting for multiple testing, there does not seem to be a statistically significant difference between customers with a primary and secondary education. We also saw quite a few statistical significant differences in the bank balances of customers with different job profiles."
   ]
  },
  {
   "cell_type": "markdown",
   "metadata": {},
   "source": [
    "## Takeaways\n",
    "\n",
    "Customer segmentation requires analyzing differences among different subgroups of customers. Observed differences do not necessarily correspond to statistically significant differences. Hypothesis testing can help us identifying differences that are too extreme to happen at random.\n",
    "\n",
    "However, hypothesis testing is not just a rote application of rules; we have to be mindful about the multiple comparisons issue. This is where the \"monkeys on a typewriter\" problem comes from. A Bonferroni correction goes a long way towards mitigating the problem of observing too many false positive results while doing a large number of hypothesis tests."
   ]
  }
 ],
 "metadata": {
  "colab": {
   "collapsed_sections": [],
   "name": "Case2.1.ipynb",
   "provenance": []
  },
  "kernelspec": {
   "display_name": "Python 3",
   "language": "python",
   "name": "python3"
  },
  "language_info": {
   "codemirror_mode": {
    "name": "ipython",
    "version": 3
   },
   "file_extension": ".py",
   "mimetype": "text/x-python",
   "name": "python",
   "nbconvert_exporter": "python",
   "pygments_lexer": "ipython3",
   "version": "3.7.3"
  }
 },
 "nbformat": 4,
 "nbformat_minor": 1
}
